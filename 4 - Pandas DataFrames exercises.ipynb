{
  "nbformat": 4,
  "nbformat_minor": 0,
  "metadata": {
    "kernelspec": {
      "display_name": "Python 3",
      "language": "python",
      "name": "python3"
    },
    "language_info": {
      "codemirror_mode": {
        "name": "ipython",
        "version": 3
      },
      "file_extension": ".py",
      "mimetype": "text/x-python",
      "name": "python",
      "nbconvert_exporter": "python",
      "pygments_lexer": "ipython3",
      "version": "3.8.1"
    },
    "colab": {
      "name": "4 - Pandas DataFrames exercises.ipynb",
      "provenance": [],
      "include_colab_link": true
    }
  },
  "cells": [
    {
      "cell_type": "markdown",
      "metadata": {
        "id": "view-in-github",
        "colab_type": "text"
      },
      "source": [
        "<a href=\"https://colab.research.google.com/github/LuxusTrek/Angular_Course/blob/main/4%20-%20Pandas%20DataFrames%20exercises.ipynb\" target=\"_parent\"><img src=\"https://colab.research.google.com/assets/colab-badge.svg\" alt=\"Open In Colab\"/></a>"
      ]
    },
    {
      "cell_type": "markdown",
      "metadata": {
        "id": "cu3tGOeSwzSS"
      },
      "source": [
        "![rmotr](https://user-images.githubusercontent.com/7065401/52071918-bda15380-2562-11e9-828c-7f95297e4a82.png)\n",
        "<hr style=\"margin-bottom: 40px;\">\n",
        "\n",
        "# Pandas DataFrame exercises\n"
      ]
    },
    {
      "cell_type": "code",
      "metadata": {
        "id": "CtVeai1dwzSV",
        "outputId": "e9ead657-c0c3-40ff-fe96-2d158afcf661",
        "colab": {
          "base_uri": "https://localhost:8080/"
        }
      },
      "source": [
        "# Import the numpy package under the name np\n",
        "import numpy as np\n",
        "\n",
        "# Import the pandas package under the name pd\n",
        "import pandas as pd\n",
        "\n",
        "# Import the matplotlib package under the name plt\n",
        "import matplotlib.pyplot as plt\n",
        "%matplotlib inline\n",
        "\n",
        "# Print the pandas version and the configuration\n",
        "print(pd.__version__)"
      ],
      "execution_count": 2,
      "outputs": [
        {
          "output_type": "stream",
          "text": [
            "1.1.5\n"
          ],
          "name": "stdout"
        }
      ]
    },
    {
      "cell_type": "markdown",
      "metadata": {
        "id": "RXTy2NcLwzSW"
      },
      "source": [
        "![purple-divider](https://user-images.githubusercontent.com/7065401/52071927-c1cd7100-2562-11e9-908a-dde91ba14e59.png)\n",
        "\n",
        "## DataFrame creation"
      ]
    },
    {
      "cell_type": "markdown",
      "metadata": {
        "id": "fz4nU5NAwzSW"
      },
      "source": [
        "### Create an empty pandas DataFrame\n"
      ]
    },
    {
      "cell_type": "code",
      "metadata": {
        "id": "u4AQwLlZwzSX"
      },
      "source": [
        "# your code goes here\n"
      ],
      "execution_count": null,
      "outputs": []
    },
    {
      "cell_type": "code",
      "metadata": {
        "cell_type": "solution",
        "id": "vPNUdtpKwzSX"
      },
      "source": [
        "pd.DataFrame(data=[None],\n",
        "             index=[None],\n",
        "             columns=[None])"
      ],
      "execution_count": null,
      "outputs": []
    },
    {
      "cell_type": "markdown",
      "metadata": {
        "id": "zjJ4mXeuwzSX"
      },
      "source": [
        "<img width=400 src=\"https://cdn.dribbble.com/users/4678/screenshots/1986600/avengers.png\"></img>"
      ]
    },
    {
      "cell_type": "markdown",
      "metadata": {
        "id": "uM4uIIz5wzSY"
      },
      "source": [
        "![green-divider](https://user-images.githubusercontent.com/7065401/52071924-c003ad80-2562-11e9-8297-1c6595f8a7ff.png)\n",
        "\n",
        "### Create a `marvel_df` pandas DataFrame with the given marvel data\n"
      ]
    },
    {
      "cell_type": "code",
      "metadata": {
        "id": "zfyo5FnWwzSZ"
      },
      "source": [
        "marvel_data = [\n",
        "    ['Spider-Man', 'male', 1962],\n",
        "    ['Captain America', 'male', 1941],\n",
        "    ['Wolverine', 'male', 1974],\n",
        "    ['Iron Man', 'male', 1963],\n",
        "    ['Thor', 'male', 1963],\n",
        "    ['Thing', 'male', 1961],\n",
        "    ['Mister Fantastic', 'male', 1961],\n",
        "    ['Hulk', 'male', 1962],\n",
        "    ['Beast', 'male', 1963],\n",
        "    ['Invisible Woman', 'female', 1961],\n",
        "    ['Storm', 'female', 1975],\n",
        "    ['Namor', 'male', 1939],\n",
        "    ['Hawkeye', 'male', 1964],\n",
        "    ['Daredevil', 'male', 1964],\n",
        "    ['Doctor Strange', 'male', 1963],\n",
        "    ['Hank Pym', 'male', 1962],\n",
        "    ['Scarlet Witch', 'female', 1964],\n",
        "    ['Wasp', 'female', 1963],\n",
        "    ['Black Widow', 'female', 1964],\n",
        "    ['Vision', 'male', 1968]\n",
        "]"
      ],
      "execution_count": 5,
      "outputs": []
    },
    {
      "cell_type": "code",
      "metadata": {
        "id": "z_lSx7i_wzSa",
        "outputId": "fb2cbad4-847e-446a-8bbc-47ac54c0add5",
        "colab": {
          "base_uri": "https://localhost:8080/",
          "height": 675
        }
      },
      "source": [
        "# your code goes here\n",
        "marvelDataFrame = pd.DataFrame(data=marvel_data,columns=[\"Hero Name\", \"Genre\", \"Age\"])\n",
        "marvelDataFrame"
      ],
      "execution_count": 9,
      "outputs": [
        {
          "output_type": "execute_result",
          "data": {
            "text/html": [
              "<div>\n",
              "<style scoped>\n",
              "    .dataframe tbody tr th:only-of-type {\n",
              "        vertical-align: middle;\n",
              "    }\n",
              "\n",
              "    .dataframe tbody tr th {\n",
              "        vertical-align: top;\n",
              "    }\n",
              "\n",
              "    .dataframe thead th {\n",
              "        text-align: right;\n",
              "    }\n",
              "</style>\n",
              "<table border=\"1\" class=\"dataframe\">\n",
              "  <thead>\n",
              "    <tr style=\"text-align: right;\">\n",
              "      <th></th>\n",
              "      <th>Hero Name</th>\n",
              "      <th>Genre</th>\n",
              "      <th>Age</th>\n",
              "    </tr>\n",
              "  </thead>\n",
              "  <tbody>\n",
              "    <tr>\n",
              "      <th>0</th>\n",
              "      <td>Spider-Man</td>\n",
              "      <td>male</td>\n",
              "      <td>1962</td>\n",
              "    </tr>\n",
              "    <tr>\n",
              "      <th>1</th>\n",
              "      <td>Captain America</td>\n",
              "      <td>male</td>\n",
              "      <td>1941</td>\n",
              "    </tr>\n",
              "    <tr>\n",
              "      <th>2</th>\n",
              "      <td>Wolverine</td>\n",
              "      <td>male</td>\n",
              "      <td>1974</td>\n",
              "    </tr>\n",
              "    <tr>\n",
              "      <th>3</th>\n",
              "      <td>Iron Man</td>\n",
              "      <td>male</td>\n",
              "      <td>1963</td>\n",
              "    </tr>\n",
              "    <tr>\n",
              "      <th>4</th>\n",
              "      <td>Thor</td>\n",
              "      <td>male</td>\n",
              "      <td>1963</td>\n",
              "    </tr>\n",
              "    <tr>\n",
              "      <th>5</th>\n",
              "      <td>Thing</td>\n",
              "      <td>male</td>\n",
              "      <td>1961</td>\n",
              "    </tr>\n",
              "    <tr>\n",
              "      <th>6</th>\n",
              "      <td>Mister Fantastic</td>\n",
              "      <td>male</td>\n",
              "      <td>1961</td>\n",
              "    </tr>\n",
              "    <tr>\n",
              "      <th>7</th>\n",
              "      <td>Hulk</td>\n",
              "      <td>male</td>\n",
              "      <td>1962</td>\n",
              "    </tr>\n",
              "    <tr>\n",
              "      <th>8</th>\n",
              "      <td>Beast</td>\n",
              "      <td>male</td>\n",
              "      <td>1963</td>\n",
              "    </tr>\n",
              "    <tr>\n",
              "      <th>9</th>\n",
              "      <td>Invisible Woman</td>\n",
              "      <td>female</td>\n",
              "      <td>1961</td>\n",
              "    </tr>\n",
              "    <tr>\n",
              "      <th>10</th>\n",
              "      <td>Storm</td>\n",
              "      <td>female</td>\n",
              "      <td>1975</td>\n",
              "    </tr>\n",
              "    <tr>\n",
              "      <th>11</th>\n",
              "      <td>Namor</td>\n",
              "      <td>male</td>\n",
              "      <td>1939</td>\n",
              "    </tr>\n",
              "    <tr>\n",
              "      <th>12</th>\n",
              "      <td>Hawkeye</td>\n",
              "      <td>male</td>\n",
              "      <td>1964</td>\n",
              "    </tr>\n",
              "    <tr>\n",
              "      <th>13</th>\n",
              "      <td>Daredevil</td>\n",
              "      <td>male</td>\n",
              "      <td>1964</td>\n",
              "    </tr>\n",
              "    <tr>\n",
              "      <th>14</th>\n",
              "      <td>Doctor Strange</td>\n",
              "      <td>male</td>\n",
              "      <td>1963</td>\n",
              "    </tr>\n",
              "    <tr>\n",
              "      <th>15</th>\n",
              "      <td>Hank Pym</td>\n",
              "      <td>male</td>\n",
              "      <td>1962</td>\n",
              "    </tr>\n",
              "    <tr>\n",
              "      <th>16</th>\n",
              "      <td>Scarlet Witch</td>\n",
              "      <td>female</td>\n",
              "      <td>1964</td>\n",
              "    </tr>\n",
              "    <tr>\n",
              "      <th>17</th>\n",
              "      <td>Wasp</td>\n",
              "      <td>female</td>\n",
              "      <td>1963</td>\n",
              "    </tr>\n",
              "    <tr>\n",
              "      <th>18</th>\n",
              "      <td>Black Widow</td>\n",
              "      <td>female</td>\n",
              "      <td>1964</td>\n",
              "    </tr>\n",
              "    <tr>\n",
              "      <th>19</th>\n",
              "      <td>Vision</td>\n",
              "      <td>male</td>\n",
              "      <td>1968</td>\n",
              "    </tr>\n",
              "  </tbody>\n",
              "</table>\n",
              "</div>"
            ],
            "text/plain": [
              "           Hero Name   Genre   Age\n",
              "0         Spider-Man    male  1962\n",
              "1    Captain America    male  1941\n",
              "2          Wolverine    male  1974\n",
              "3           Iron Man    male  1963\n",
              "4               Thor    male  1963\n",
              "5              Thing    male  1961\n",
              "6   Mister Fantastic    male  1961\n",
              "7               Hulk    male  1962\n",
              "8              Beast    male  1963\n",
              "9    Invisible Woman  female  1961\n",
              "10             Storm  female  1975\n",
              "11             Namor    male  1939\n",
              "12           Hawkeye    male  1964\n",
              "13         Daredevil    male  1964\n",
              "14    Doctor Strange    male  1963\n",
              "15          Hank Pym    male  1962\n",
              "16     Scarlet Witch  female  1964\n",
              "17              Wasp  female  1963\n",
              "18       Black Widow  female  1964\n",
              "19            Vision    male  1968"
            ]
          },
          "metadata": {
            "tags": []
          },
          "execution_count": 9
        }
      ]
    },
    {
      "cell_type": "code",
      "metadata": {
        "cell_type": "solution",
        "id": "1kUSx84pwzSa",
        "outputId": "16f15721-0e12-45ec-b6d4-8b476076f989",
        "colab": {
          "base_uri": "https://localhost:8080/",
          "height": 675
        }
      },
      "source": [
        "marvel_df = pd.DataFrame(data=marvel_data)\n",
        "\n",
        "marvel_df"
      ],
      "execution_count": 23,
      "outputs": [
        {
          "output_type": "execute_result",
          "data": {
            "text/html": [
              "<div>\n",
              "<style scoped>\n",
              "    .dataframe tbody tr th:only-of-type {\n",
              "        vertical-align: middle;\n",
              "    }\n",
              "\n",
              "    .dataframe tbody tr th {\n",
              "        vertical-align: top;\n",
              "    }\n",
              "\n",
              "    .dataframe thead th {\n",
              "        text-align: right;\n",
              "    }\n",
              "</style>\n",
              "<table border=\"1\" class=\"dataframe\">\n",
              "  <thead>\n",
              "    <tr style=\"text-align: right;\">\n",
              "      <th></th>\n",
              "      <th>0</th>\n",
              "      <th>1</th>\n",
              "      <th>2</th>\n",
              "    </tr>\n",
              "  </thead>\n",
              "  <tbody>\n",
              "    <tr>\n",
              "      <th>0</th>\n",
              "      <td>Spider-Man</td>\n",
              "      <td>male</td>\n",
              "      <td>1962</td>\n",
              "    </tr>\n",
              "    <tr>\n",
              "      <th>1</th>\n",
              "      <td>Captain America</td>\n",
              "      <td>male</td>\n",
              "      <td>1941</td>\n",
              "    </tr>\n",
              "    <tr>\n",
              "      <th>2</th>\n",
              "      <td>Wolverine</td>\n",
              "      <td>male</td>\n",
              "      <td>1974</td>\n",
              "    </tr>\n",
              "    <tr>\n",
              "      <th>3</th>\n",
              "      <td>Iron Man</td>\n",
              "      <td>male</td>\n",
              "      <td>1963</td>\n",
              "    </tr>\n",
              "    <tr>\n",
              "      <th>4</th>\n",
              "      <td>Thor</td>\n",
              "      <td>male</td>\n",
              "      <td>1963</td>\n",
              "    </tr>\n",
              "    <tr>\n",
              "      <th>5</th>\n",
              "      <td>Thing</td>\n",
              "      <td>male</td>\n",
              "      <td>1961</td>\n",
              "    </tr>\n",
              "    <tr>\n",
              "      <th>6</th>\n",
              "      <td>Mister Fantastic</td>\n",
              "      <td>male</td>\n",
              "      <td>1961</td>\n",
              "    </tr>\n",
              "    <tr>\n",
              "      <th>7</th>\n",
              "      <td>Hulk</td>\n",
              "      <td>male</td>\n",
              "      <td>1962</td>\n",
              "    </tr>\n",
              "    <tr>\n",
              "      <th>8</th>\n",
              "      <td>Beast</td>\n",
              "      <td>male</td>\n",
              "      <td>1963</td>\n",
              "    </tr>\n",
              "    <tr>\n",
              "      <th>9</th>\n",
              "      <td>Invisible Woman</td>\n",
              "      <td>female</td>\n",
              "      <td>1961</td>\n",
              "    </tr>\n",
              "    <tr>\n",
              "      <th>10</th>\n",
              "      <td>Storm</td>\n",
              "      <td>female</td>\n",
              "      <td>1975</td>\n",
              "    </tr>\n",
              "    <tr>\n",
              "      <th>11</th>\n",
              "      <td>Namor</td>\n",
              "      <td>male</td>\n",
              "      <td>1939</td>\n",
              "    </tr>\n",
              "    <tr>\n",
              "      <th>12</th>\n",
              "      <td>Hawkeye</td>\n",
              "      <td>male</td>\n",
              "      <td>1964</td>\n",
              "    </tr>\n",
              "    <tr>\n",
              "      <th>13</th>\n",
              "      <td>Daredevil</td>\n",
              "      <td>male</td>\n",
              "      <td>1964</td>\n",
              "    </tr>\n",
              "    <tr>\n",
              "      <th>14</th>\n",
              "      <td>Doctor Strange</td>\n",
              "      <td>male</td>\n",
              "      <td>1963</td>\n",
              "    </tr>\n",
              "    <tr>\n",
              "      <th>15</th>\n",
              "      <td>Hank Pym</td>\n",
              "      <td>male</td>\n",
              "      <td>1962</td>\n",
              "    </tr>\n",
              "    <tr>\n",
              "      <th>16</th>\n",
              "      <td>Scarlet Witch</td>\n",
              "      <td>female</td>\n",
              "      <td>1964</td>\n",
              "    </tr>\n",
              "    <tr>\n",
              "      <th>17</th>\n",
              "      <td>Wasp</td>\n",
              "      <td>female</td>\n",
              "      <td>1963</td>\n",
              "    </tr>\n",
              "    <tr>\n",
              "      <th>18</th>\n",
              "      <td>Black Widow</td>\n",
              "      <td>female</td>\n",
              "      <td>1964</td>\n",
              "    </tr>\n",
              "    <tr>\n",
              "      <th>19</th>\n",
              "      <td>Vision</td>\n",
              "      <td>male</td>\n",
              "      <td>1968</td>\n",
              "    </tr>\n",
              "  </tbody>\n",
              "</table>\n",
              "</div>"
            ],
            "text/plain": [
              "                   0       1     2\n",
              "0         Spider-Man    male  1962\n",
              "1    Captain America    male  1941\n",
              "2          Wolverine    male  1974\n",
              "3           Iron Man    male  1963\n",
              "4               Thor    male  1963\n",
              "5              Thing    male  1961\n",
              "6   Mister Fantastic    male  1961\n",
              "7               Hulk    male  1962\n",
              "8              Beast    male  1963\n",
              "9    Invisible Woman  female  1961\n",
              "10             Storm  female  1975\n",
              "11             Namor    male  1939\n",
              "12           Hawkeye    male  1964\n",
              "13         Daredevil    male  1964\n",
              "14    Doctor Strange    male  1963\n",
              "15          Hank Pym    male  1962\n",
              "16     Scarlet Witch  female  1964\n",
              "17              Wasp  female  1963\n",
              "18       Black Widow  female  1964\n",
              "19            Vision    male  1968"
            ]
          },
          "metadata": {
            "tags": []
          },
          "execution_count": 23
        }
      ]
    },
    {
      "cell_type": "markdown",
      "metadata": {
        "id": "DXV0--kWwzSb"
      },
      "source": [
        "![green-divider](https://user-images.githubusercontent.com/7065401/52071924-c003ad80-2562-11e9-8297-1c6595f8a7ff.png)\n",
        "\n",
        "### Add column names to the `marvel_df`\n",
        " "
      ]
    },
    {
      "cell_type": "code",
      "metadata": {
        "id": "RJ8giuSFwzSb"
      },
      "source": [
        "# your code goes here\n"
      ],
      "execution_count": null,
      "outputs": []
    },
    {
      "cell_type": "code",
      "metadata": {
        "cell_type": "solution",
        "id": "D8VxtSaiwzSb",
        "outputId": "a019ff71-da71-4095-fc62-6fa01a82a90c",
        "colab": {
          "base_uri": "https://localhost:8080/",
          "height": 675
        }
      },
      "source": [
        "col_names = ['name', 'sex', 'first_appearance']\n",
        "\n",
        "marvel_df.columns = col_names\n",
        "marvel_df"
      ],
      "execution_count": 24,
      "outputs": [
        {
          "output_type": "execute_result",
          "data": {
            "text/html": [
              "<div>\n",
              "<style scoped>\n",
              "    .dataframe tbody tr th:only-of-type {\n",
              "        vertical-align: middle;\n",
              "    }\n",
              "\n",
              "    .dataframe tbody tr th {\n",
              "        vertical-align: top;\n",
              "    }\n",
              "\n",
              "    .dataframe thead th {\n",
              "        text-align: right;\n",
              "    }\n",
              "</style>\n",
              "<table border=\"1\" class=\"dataframe\">\n",
              "  <thead>\n",
              "    <tr style=\"text-align: right;\">\n",
              "      <th></th>\n",
              "      <th>name</th>\n",
              "      <th>sex</th>\n",
              "      <th>first_appearance</th>\n",
              "    </tr>\n",
              "  </thead>\n",
              "  <tbody>\n",
              "    <tr>\n",
              "      <th>0</th>\n",
              "      <td>Spider-Man</td>\n",
              "      <td>male</td>\n",
              "      <td>1962</td>\n",
              "    </tr>\n",
              "    <tr>\n",
              "      <th>1</th>\n",
              "      <td>Captain America</td>\n",
              "      <td>male</td>\n",
              "      <td>1941</td>\n",
              "    </tr>\n",
              "    <tr>\n",
              "      <th>2</th>\n",
              "      <td>Wolverine</td>\n",
              "      <td>male</td>\n",
              "      <td>1974</td>\n",
              "    </tr>\n",
              "    <tr>\n",
              "      <th>3</th>\n",
              "      <td>Iron Man</td>\n",
              "      <td>male</td>\n",
              "      <td>1963</td>\n",
              "    </tr>\n",
              "    <tr>\n",
              "      <th>4</th>\n",
              "      <td>Thor</td>\n",
              "      <td>male</td>\n",
              "      <td>1963</td>\n",
              "    </tr>\n",
              "    <tr>\n",
              "      <th>5</th>\n",
              "      <td>Thing</td>\n",
              "      <td>male</td>\n",
              "      <td>1961</td>\n",
              "    </tr>\n",
              "    <tr>\n",
              "      <th>6</th>\n",
              "      <td>Mister Fantastic</td>\n",
              "      <td>male</td>\n",
              "      <td>1961</td>\n",
              "    </tr>\n",
              "    <tr>\n",
              "      <th>7</th>\n",
              "      <td>Hulk</td>\n",
              "      <td>male</td>\n",
              "      <td>1962</td>\n",
              "    </tr>\n",
              "    <tr>\n",
              "      <th>8</th>\n",
              "      <td>Beast</td>\n",
              "      <td>male</td>\n",
              "      <td>1963</td>\n",
              "    </tr>\n",
              "    <tr>\n",
              "      <th>9</th>\n",
              "      <td>Invisible Woman</td>\n",
              "      <td>female</td>\n",
              "      <td>1961</td>\n",
              "    </tr>\n",
              "    <tr>\n",
              "      <th>10</th>\n",
              "      <td>Storm</td>\n",
              "      <td>female</td>\n",
              "      <td>1975</td>\n",
              "    </tr>\n",
              "    <tr>\n",
              "      <th>11</th>\n",
              "      <td>Namor</td>\n",
              "      <td>male</td>\n",
              "      <td>1939</td>\n",
              "    </tr>\n",
              "    <tr>\n",
              "      <th>12</th>\n",
              "      <td>Hawkeye</td>\n",
              "      <td>male</td>\n",
              "      <td>1964</td>\n",
              "    </tr>\n",
              "    <tr>\n",
              "      <th>13</th>\n",
              "      <td>Daredevil</td>\n",
              "      <td>male</td>\n",
              "      <td>1964</td>\n",
              "    </tr>\n",
              "    <tr>\n",
              "      <th>14</th>\n",
              "      <td>Doctor Strange</td>\n",
              "      <td>male</td>\n",
              "      <td>1963</td>\n",
              "    </tr>\n",
              "    <tr>\n",
              "      <th>15</th>\n",
              "      <td>Hank Pym</td>\n",
              "      <td>male</td>\n",
              "      <td>1962</td>\n",
              "    </tr>\n",
              "    <tr>\n",
              "      <th>16</th>\n",
              "      <td>Scarlet Witch</td>\n",
              "      <td>female</td>\n",
              "      <td>1964</td>\n",
              "    </tr>\n",
              "    <tr>\n",
              "      <th>17</th>\n",
              "      <td>Wasp</td>\n",
              "      <td>female</td>\n",
              "      <td>1963</td>\n",
              "    </tr>\n",
              "    <tr>\n",
              "      <th>18</th>\n",
              "      <td>Black Widow</td>\n",
              "      <td>female</td>\n",
              "      <td>1964</td>\n",
              "    </tr>\n",
              "    <tr>\n",
              "      <th>19</th>\n",
              "      <td>Vision</td>\n",
              "      <td>male</td>\n",
              "      <td>1968</td>\n",
              "    </tr>\n",
              "  </tbody>\n",
              "</table>\n",
              "</div>"
            ],
            "text/plain": [
              "                name     sex  first_appearance\n",
              "0         Spider-Man    male              1962\n",
              "1    Captain America    male              1941\n",
              "2          Wolverine    male              1974\n",
              "3           Iron Man    male              1963\n",
              "4               Thor    male              1963\n",
              "5              Thing    male              1961\n",
              "6   Mister Fantastic    male              1961\n",
              "7               Hulk    male              1962\n",
              "8              Beast    male              1963\n",
              "9    Invisible Woman  female              1961\n",
              "10             Storm  female              1975\n",
              "11             Namor    male              1939\n",
              "12           Hawkeye    male              1964\n",
              "13         Daredevil    male              1964\n",
              "14    Doctor Strange    male              1963\n",
              "15          Hank Pym    male              1962\n",
              "16     Scarlet Witch  female              1964\n",
              "17              Wasp  female              1963\n",
              "18       Black Widow  female              1964\n",
              "19            Vision    male              1968"
            ]
          },
          "metadata": {
            "tags": []
          },
          "execution_count": 24
        }
      ]
    },
    {
      "cell_type": "markdown",
      "metadata": {
        "id": "w5oeQEsiwzSc"
      },
      "source": [
        "![green-divider](https://user-images.githubusercontent.com/7065401/52071924-c003ad80-2562-11e9-8297-1c6595f8a7ff.png)\n",
        "\n",
        "### Add index names to the `marvel_df` (use the character name as index)\n"
      ]
    },
    {
      "cell_type": "code",
      "metadata": {
        "id": "xASpdlTvwzSc",
        "outputId": "4051843e-0b3f-4b38-cb21-182fe7c66163",
        "colab": {
          "base_uri": "https://localhost:8080/",
          "height": 705
        }
      },
      "source": [
        "# your code goes here\n",
        "marvelDataFrame.index = marvelDataFrame['Hero Name']\n",
        "marvelDataFrame"
      ],
      "execution_count": 14,
      "outputs": [
        {
          "output_type": "execute_result",
          "data": {
            "text/html": [
              "<div>\n",
              "<style scoped>\n",
              "    .dataframe tbody tr th:only-of-type {\n",
              "        vertical-align: middle;\n",
              "    }\n",
              "\n",
              "    .dataframe tbody tr th {\n",
              "        vertical-align: top;\n",
              "    }\n",
              "\n",
              "    .dataframe thead th {\n",
              "        text-align: right;\n",
              "    }\n",
              "</style>\n",
              "<table border=\"1\" class=\"dataframe\">\n",
              "  <thead>\n",
              "    <tr style=\"text-align: right;\">\n",
              "      <th></th>\n",
              "      <th>Hero Name</th>\n",
              "      <th>Genre</th>\n",
              "      <th>Age</th>\n",
              "    </tr>\n",
              "    <tr>\n",
              "      <th>Hero Name</th>\n",
              "      <th></th>\n",
              "      <th></th>\n",
              "      <th></th>\n",
              "    </tr>\n",
              "  </thead>\n",
              "  <tbody>\n",
              "    <tr>\n",
              "      <th>Spider-Man</th>\n",
              "      <td>Spider-Man</td>\n",
              "      <td>male</td>\n",
              "      <td>1962</td>\n",
              "    </tr>\n",
              "    <tr>\n",
              "      <th>Captain America</th>\n",
              "      <td>Captain America</td>\n",
              "      <td>male</td>\n",
              "      <td>1941</td>\n",
              "    </tr>\n",
              "    <tr>\n",
              "      <th>Wolverine</th>\n",
              "      <td>Wolverine</td>\n",
              "      <td>male</td>\n",
              "      <td>1974</td>\n",
              "    </tr>\n",
              "    <tr>\n",
              "      <th>Iron Man</th>\n",
              "      <td>Iron Man</td>\n",
              "      <td>male</td>\n",
              "      <td>1963</td>\n",
              "    </tr>\n",
              "    <tr>\n",
              "      <th>Thor</th>\n",
              "      <td>Thor</td>\n",
              "      <td>male</td>\n",
              "      <td>1963</td>\n",
              "    </tr>\n",
              "    <tr>\n",
              "      <th>Thing</th>\n",
              "      <td>Thing</td>\n",
              "      <td>male</td>\n",
              "      <td>1961</td>\n",
              "    </tr>\n",
              "    <tr>\n",
              "      <th>Mister Fantastic</th>\n",
              "      <td>Mister Fantastic</td>\n",
              "      <td>male</td>\n",
              "      <td>1961</td>\n",
              "    </tr>\n",
              "    <tr>\n",
              "      <th>Hulk</th>\n",
              "      <td>Hulk</td>\n",
              "      <td>male</td>\n",
              "      <td>1962</td>\n",
              "    </tr>\n",
              "    <tr>\n",
              "      <th>Beast</th>\n",
              "      <td>Beast</td>\n",
              "      <td>male</td>\n",
              "      <td>1963</td>\n",
              "    </tr>\n",
              "    <tr>\n",
              "      <th>Invisible Woman</th>\n",
              "      <td>Invisible Woman</td>\n",
              "      <td>female</td>\n",
              "      <td>1961</td>\n",
              "    </tr>\n",
              "    <tr>\n",
              "      <th>Storm</th>\n",
              "      <td>Storm</td>\n",
              "      <td>female</td>\n",
              "      <td>1975</td>\n",
              "    </tr>\n",
              "    <tr>\n",
              "      <th>Namor</th>\n",
              "      <td>Namor</td>\n",
              "      <td>male</td>\n",
              "      <td>1939</td>\n",
              "    </tr>\n",
              "    <tr>\n",
              "      <th>Hawkeye</th>\n",
              "      <td>Hawkeye</td>\n",
              "      <td>male</td>\n",
              "      <td>1964</td>\n",
              "    </tr>\n",
              "    <tr>\n",
              "      <th>Daredevil</th>\n",
              "      <td>Daredevil</td>\n",
              "      <td>male</td>\n",
              "      <td>1964</td>\n",
              "    </tr>\n",
              "    <tr>\n",
              "      <th>Doctor Strange</th>\n",
              "      <td>Doctor Strange</td>\n",
              "      <td>male</td>\n",
              "      <td>1963</td>\n",
              "    </tr>\n",
              "    <tr>\n",
              "      <th>Hank Pym</th>\n",
              "      <td>Hank Pym</td>\n",
              "      <td>male</td>\n",
              "      <td>1962</td>\n",
              "    </tr>\n",
              "    <tr>\n",
              "      <th>Scarlet Witch</th>\n",
              "      <td>Scarlet Witch</td>\n",
              "      <td>female</td>\n",
              "      <td>1964</td>\n",
              "    </tr>\n",
              "    <tr>\n",
              "      <th>Wasp</th>\n",
              "      <td>Wasp</td>\n",
              "      <td>female</td>\n",
              "      <td>1963</td>\n",
              "    </tr>\n",
              "    <tr>\n",
              "      <th>Black Widow</th>\n",
              "      <td>Black Widow</td>\n",
              "      <td>female</td>\n",
              "      <td>1964</td>\n",
              "    </tr>\n",
              "    <tr>\n",
              "      <th>Vision</th>\n",
              "      <td>Vision</td>\n",
              "      <td>male</td>\n",
              "      <td>1968</td>\n",
              "    </tr>\n",
              "  </tbody>\n",
              "</table>\n",
              "</div>"
            ],
            "text/plain": [
              "                         Hero Name   Genre   Age\n",
              "Hero Name                                       \n",
              "Spider-Man              Spider-Man    male  1962\n",
              "Captain America    Captain America    male  1941\n",
              "Wolverine                Wolverine    male  1974\n",
              "Iron Man                  Iron Man    male  1963\n",
              "Thor                          Thor    male  1963\n",
              "Thing                        Thing    male  1961\n",
              "Mister Fantastic  Mister Fantastic    male  1961\n",
              "Hulk                          Hulk    male  1962\n",
              "Beast                        Beast    male  1963\n",
              "Invisible Woman    Invisible Woman  female  1961\n",
              "Storm                        Storm  female  1975\n",
              "Namor                        Namor    male  1939\n",
              "Hawkeye                    Hawkeye    male  1964\n",
              "Daredevil                Daredevil    male  1964\n",
              "Doctor Strange      Doctor Strange    male  1963\n",
              "Hank Pym                  Hank Pym    male  1962\n",
              "Scarlet Witch        Scarlet Witch  female  1964\n",
              "Wasp                          Wasp  female  1963\n",
              "Black Widow            Black Widow  female  1964\n",
              "Vision                      Vision    male  1968"
            ]
          },
          "metadata": {
            "tags": []
          },
          "execution_count": 14
        }
      ]
    },
    {
      "cell_type": "code",
      "metadata": {
        "cell_type": "solution",
        "id": "Gf9Soi7ZwzSc",
        "outputId": "d311d67f-0bdf-41cf-bf05-96af43d875d4",
        "colab": {
          "base_uri": "https://localhost:8080/",
          "height": 705
        }
      },
      "source": [
        "marvel_df.index = marvel_df['name']\n",
        "marvel_df"
      ],
      "execution_count": 25,
      "outputs": [
        {
          "output_type": "execute_result",
          "data": {
            "text/html": [
              "<div>\n",
              "<style scoped>\n",
              "    .dataframe tbody tr th:only-of-type {\n",
              "        vertical-align: middle;\n",
              "    }\n",
              "\n",
              "    .dataframe tbody tr th {\n",
              "        vertical-align: top;\n",
              "    }\n",
              "\n",
              "    .dataframe thead th {\n",
              "        text-align: right;\n",
              "    }\n",
              "</style>\n",
              "<table border=\"1\" class=\"dataframe\">\n",
              "  <thead>\n",
              "    <tr style=\"text-align: right;\">\n",
              "      <th></th>\n",
              "      <th>name</th>\n",
              "      <th>sex</th>\n",
              "      <th>first_appearance</th>\n",
              "    </tr>\n",
              "    <tr>\n",
              "      <th>name</th>\n",
              "      <th></th>\n",
              "      <th></th>\n",
              "      <th></th>\n",
              "    </tr>\n",
              "  </thead>\n",
              "  <tbody>\n",
              "    <tr>\n",
              "      <th>Spider-Man</th>\n",
              "      <td>Spider-Man</td>\n",
              "      <td>male</td>\n",
              "      <td>1962</td>\n",
              "    </tr>\n",
              "    <tr>\n",
              "      <th>Captain America</th>\n",
              "      <td>Captain America</td>\n",
              "      <td>male</td>\n",
              "      <td>1941</td>\n",
              "    </tr>\n",
              "    <tr>\n",
              "      <th>Wolverine</th>\n",
              "      <td>Wolverine</td>\n",
              "      <td>male</td>\n",
              "      <td>1974</td>\n",
              "    </tr>\n",
              "    <tr>\n",
              "      <th>Iron Man</th>\n",
              "      <td>Iron Man</td>\n",
              "      <td>male</td>\n",
              "      <td>1963</td>\n",
              "    </tr>\n",
              "    <tr>\n",
              "      <th>Thor</th>\n",
              "      <td>Thor</td>\n",
              "      <td>male</td>\n",
              "      <td>1963</td>\n",
              "    </tr>\n",
              "    <tr>\n",
              "      <th>Thing</th>\n",
              "      <td>Thing</td>\n",
              "      <td>male</td>\n",
              "      <td>1961</td>\n",
              "    </tr>\n",
              "    <tr>\n",
              "      <th>Mister Fantastic</th>\n",
              "      <td>Mister Fantastic</td>\n",
              "      <td>male</td>\n",
              "      <td>1961</td>\n",
              "    </tr>\n",
              "    <tr>\n",
              "      <th>Hulk</th>\n",
              "      <td>Hulk</td>\n",
              "      <td>male</td>\n",
              "      <td>1962</td>\n",
              "    </tr>\n",
              "    <tr>\n",
              "      <th>Beast</th>\n",
              "      <td>Beast</td>\n",
              "      <td>male</td>\n",
              "      <td>1963</td>\n",
              "    </tr>\n",
              "    <tr>\n",
              "      <th>Invisible Woman</th>\n",
              "      <td>Invisible Woman</td>\n",
              "      <td>female</td>\n",
              "      <td>1961</td>\n",
              "    </tr>\n",
              "    <tr>\n",
              "      <th>Storm</th>\n",
              "      <td>Storm</td>\n",
              "      <td>female</td>\n",
              "      <td>1975</td>\n",
              "    </tr>\n",
              "    <tr>\n",
              "      <th>Namor</th>\n",
              "      <td>Namor</td>\n",
              "      <td>male</td>\n",
              "      <td>1939</td>\n",
              "    </tr>\n",
              "    <tr>\n",
              "      <th>Hawkeye</th>\n",
              "      <td>Hawkeye</td>\n",
              "      <td>male</td>\n",
              "      <td>1964</td>\n",
              "    </tr>\n",
              "    <tr>\n",
              "      <th>Daredevil</th>\n",
              "      <td>Daredevil</td>\n",
              "      <td>male</td>\n",
              "      <td>1964</td>\n",
              "    </tr>\n",
              "    <tr>\n",
              "      <th>Doctor Strange</th>\n",
              "      <td>Doctor Strange</td>\n",
              "      <td>male</td>\n",
              "      <td>1963</td>\n",
              "    </tr>\n",
              "    <tr>\n",
              "      <th>Hank Pym</th>\n",
              "      <td>Hank Pym</td>\n",
              "      <td>male</td>\n",
              "      <td>1962</td>\n",
              "    </tr>\n",
              "    <tr>\n",
              "      <th>Scarlet Witch</th>\n",
              "      <td>Scarlet Witch</td>\n",
              "      <td>female</td>\n",
              "      <td>1964</td>\n",
              "    </tr>\n",
              "    <tr>\n",
              "      <th>Wasp</th>\n",
              "      <td>Wasp</td>\n",
              "      <td>female</td>\n",
              "      <td>1963</td>\n",
              "    </tr>\n",
              "    <tr>\n",
              "      <th>Black Widow</th>\n",
              "      <td>Black Widow</td>\n",
              "      <td>female</td>\n",
              "      <td>1964</td>\n",
              "    </tr>\n",
              "    <tr>\n",
              "      <th>Vision</th>\n",
              "      <td>Vision</td>\n",
              "      <td>male</td>\n",
              "      <td>1968</td>\n",
              "    </tr>\n",
              "  </tbody>\n",
              "</table>\n",
              "</div>"
            ],
            "text/plain": [
              "                              name     sex  first_appearance\n",
              "name                                                        \n",
              "Spider-Man              Spider-Man    male              1962\n",
              "Captain America    Captain America    male              1941\n",
              "Wolverine                Wolverine    male              1974\n",
              "Iron Man                  Iron Man    male              1963\n",
              "Thor                          Thor    male              1963\n",
              "Thing                        Thing    male              1961\n",
              "Mister Fantastic  Mister Fantastic    male              1961\n",
              "Hulk                          Hulk    male              1962\n",
              "Beast                        Beast    male              1963\n",
              "Invisible Woman    Invisible Woman  female              1961\n",
              "Storm                        Storm  female              1975\n",
              "Namor                        Namor    male              1939\n",
              "Hawkeye                    Hawkeye    male              1964\n",
              "Daredevil                Daredevil    male              1964\n",
              "Doctor Strange      Doctor Strange    male              1963\n",
              "Hank Pym                  Hank Pym    male              1962\n",
              "Scarlet Witch        Scarlet Witch  female              1964\n",
              "Wasp                          Wasp  female              1963\n",
              "Black Widow            Black Widow  female              1964\n",
              "Vision                      Vision    male              1968"
            ]
          },
          "metadata": {
            "tags": []
          },
          "execution_count": 25
        }
      ]
    },
    {
      "cell_type": "markdown",
      "metadata": {
        "id": "MloVLODqwzSd"
      },
      "source": [
        "![green-divider](https://user-images.githubusercontent.com/7065401/52071924-c003ad80-2562-11e9-8297-1c6595f8a7ff.png)\n",
        "\n",
        "### Drop the name column as it's now the index"
      ]
    },
    {
      "cell_type": "code",
      "metadata": {
        "id": "ZGJlLAlPwzSd",
        "outputId": "d9ab5db8-905e-4031-f5bd-a20cd5bca1d3",
        "colab": {
          "base_uri": "https://localhost:8080/",
          "height": 705
        }
      },
      "source": [
        "# your code goes here\n",
        "marvelDataFrame.drop(['Hero Name'], axis=1)"
      ],
      "execution_count": 16,
      "outputs": [
        {
          "output_type": "execute_result",
          "data": {
            "text/html": [
              "<div>\n",
              "<style scoped>\n",
              "    .dataframe tbody tr th:only-of-type {\n",
              "        vertical-align: middle;\n",
              "    }\n",
              "\n",
              "    .dataframe tbody tr th {\n",
              "        vertical-align: top;\n",
              "    }\n",
              "\n",
              "    .dataframe thead th {\n",
              "        text-align: right;\n",
              "    }\n",
              "</style>\n",
              "<table border=\"1\" class=\"dataframe\">\n",
              "  <thead>\n",
              "    <tr style=\"text-align: right;\">\n",
              "      <th></th>\n",
              "      <th>Genre</th>\n",
              "      <th>Age</th>\n",
              "    </tr>\n",
              "    <tr>\n",
              "      <th>Hero Name</th>\n",
              "      <th></th>\n",
              "      <th></th>\n",
              "    </tr>\n",
              "  </thead>\n",
              "  <tbody>\n",
              "    <tr>\n",
              "      <th>Spider-Man</th>\n",
              "      <td>male</td>\n",
              "      <td>1962</td>\n",
              "    </tr>\n",
              "    <tr>\n",
              "      <th>Captain America</th>\n",
              "      <td>male</td>\n",
              "      <td>1941</td>\n",
              "    </tr>\n",
              "    <tr>\n",
              "      <th>Wolverine</th>\n",
              "      <td>male</td>\n",
              "      <td>1974</td>\n",
              "    </tr>\n",
              "    <tr>\n",
              "      <th>Iron Man</th>\n",
              "      <td>male</td>\n",
              "      <td>1963</td>\n",
              "    </tr>\n",
              "    <tr>\n",
              "      <th>Thor</th>\n",
              "      <td>male</td>\n",
              "      <td>1963</td>\n",
              "    </tr>\n",
              "    <tr>\n",
              "      <th>Thing</th>\n",
              "      <td>male</td>\n",
              "      <td>1961</td>\n",
              "    </tr>\n",
              "    <tr>\n",
              "      <th>Mister Fantastic</th>\n",
              "      <td>male</td>\n",
              "      <td>1961</td>\n",
              "    </tr>\n",
              "    <tr>\n",
              "      <th>Hulk</th>\n",
              "      <td>male</td>\n",
              "      <td>1962</td>\n",
              "    </tr>\n",
              "    <tr>\n",
              "      <th>Beast</th>\n",
              "      <td>male</td>\n",
              "      <td>1963</td>\n",
              "    </tr>\n",
              "    <tr>\n",
              "      <th>Invisible Woman</th>\n",
              "      <td>female</td>\n",
              "      <td>1961</td>\n",
              "    </tr>\n",
              "    <tr>\n",
              "      <th>Storm</th>\n",
              "      <td>female</td>\n",
              "      <td>1975</td>\n",
              "    </tr>\n",
              "    <tr>\n",
              "      <th>Namor</th>\n",
              "      <td>male</td>\n",
              "      <td>1939</td>\n",
              "    </tr>\n",
              "    <tr>\n",
              "      <th>Hawkeye</th>\n",
              "      <td>male</td>\n",
              "      <td>1964</td>\n",
              "    </tr>\n",
              "    <tr>\n",
              "      <th>Daredevil</th>\n",
              "      <td>male</td>\n",
              "      <td>1964</td>\n",
              "    </tr>\n",
              "    <tr>\n",
              "      <th>Doctor Strange</th>\n",
              "      <td>male</td>\n",
              "      <td>1963</td>\n",
              "    </tr>\n",
              "    <tr>\n",
              "      <th>Hank Pym</th>\n",
              "      <td>male</td>\n",
              "      <td>1962</td>\n",
              "    </tr>\n",
              "    <tr>\n",
              "      <th>Scarlet Witch</th>\n",
              "      <td>female</td>\n",
              "      <td>1964</td>\n",
              "    </tr>\n",
              "    <tr>\n",
              "      <th>Wasp</th>\n",
              "      <td>female</td>\n",
              "      <td>1963</td>\n",
              "    </tr>\n",
              "    <tr>\n",
              "      <th>Black Widow</th>\n",
              "      <td>female</td>\n",
              "      <td>1964</td>\n",
              "    </tr>\n",
              "    <tr>\n",
              "      <th>Vision</th>\n",
              "      <td>male</td>\n",
              "      <td>1968</td>\n",
              "    </tr>\n",
              "  </tbody>\n",
              "</table>\n",
              "</div>"
            ],
            "text/plain": [
              "                   Genre   Age\n",
              "Hero Name                     \n",
              "Spider-Man          male  1962\n",
              "Captain America     male  1941\n",
              "Wolverine           male  1974\n",
              "Iron Man            male  1963\n",
              "Thor                male  1963\n",
              "Thing               male  1961\n",
              "Mister Fantastic    male  1961\n",
              "Hulk                male  1962\n",
              "Beast               male  1963\n",
              "Invisible Woman   female  1961\n",
              "Storm             female  1975\n",
              "Namor               male  1939\n",
              "Hawkeye             male  1964\n",
              "Daredevil           male  1964\n",
              "Doctor Strange      male  1963\n",
              "Hank Pym            male  1962\n",
              "Scarlet Witch     female  1964\n",
              "Wasp              female  1963\n",
              "Black Widow       female  1964\n",
              "Vision              male  1968"
            ]
          },
          "metadata": {
            "tags": []
          },
          "execution_count": 16
        }
      ]
    },
    {
      "cell_type": "code",
      "metadata": {
        "cell_type": "solution",
        "id": "K9RfHLTiwzSd",
        "outputId": "90571e63-02ca-46af-a3a5-fba4e6a2479a",
        "colab": {
          "base_uri": "https://localhost:8080/",
          "height": 705
        }
      },
      "source": [
        "#marvel_df = marvel_df.drop(columns=['name'])\n",
        "marvel_df = marvel_df.drop(['name'], axis=1)\n",
        "marvel_df"
      ],
      "execution_count": 26,
      "outputs": [
        {
          "output_type": "execute_result",
          "data": {
            "text/html": [
              "<div>\n",
              "<style scoped>\n",
              "    .dataframe tbody tr th:only-of-type {\n",
              "        vertical-align: middle;\n",
              "    }\n",
              "\n",
              "    .dataframe tbody tr th {\n",
              "        vertical-align: top;\n",
              "    }\n",
              "\n",
              "    .dataframe thead th {\n",
              "        text-align: right;\n",
              "    }\n",
              "</style>\n",
              "<table border=\"1\" class=\"dataframe\">\n",
              "  <thead>\n",
              "    <tr style=\"text-align: right;\">\n",
              "      <th></th>\n",
              "      <th>sex</th>\n",
              "      <th>first_appearance</th>\n",
              "    </tr>\n",
              "    <tr>\n",
              "      <th>name</th>\n",
              "      <th></th>\n",
              "      <th></th>\n",
              "    </tr>\n",
              "  </thead>\n",
              "  <tbody>\n",
              "    <tr>\n",
              "      <th>Spider-Man</th>\n",
              "      <td>male</td>\n",
              "      <td>1962</td>\n",
              "    </tr>\n",
              "    <tr>\n",
              "      <th>Captain America</th>\n",
              "      <td>male</td>\n",
              "      <td>1941</td>\n",
              "    </tr>\n",
              "    <tr>\n",
              "      <th>Wolverine</th>\n",
              "      <td>male</td>\n",
              "      <td>1974</td>\n",
              "    </tr>\n",
              "    <tr>\n",
              "      <th>Iron Man</th>\n",
              "      <td>male</td>\n",
              "      <td>1963</td>\n",
              "    </tr>\n",
              "    <tr>\n",
              "      <th>Thor</th>\n",
              "      <td>male</td>\n",
              "      <td>1963</td>\n",
              "    </tr>\n",
              "    <tr>\n",
              "      <th>Thing</th>\n",
              "      <td>male</td>\n",
              "      <td>1961</td>\n",
              "    </tr>\n",
              "    <tr>\n",
              "      <th>Mister Fantastic</th>\n",
              "      <td>male</td>\n",
              "      <td>1961</td>\n",
              "    </tr>\n",
              "    <tr>\n",
              "      <th>Hulk</th>\n",
              "      <td>male</td>\n",
              "      <td>1962</td>\n",
              "    </tr>\n",
              "    <tr>\n",
              "      <th>Beast</th>\n",
              "      <td>male</td>\n",
              "      <td>1963</td>\n",
              "    </tr>\n",
              "    <tr>\n",
              "      <th>Invisible Woman</th>\n",
              "      <td>female</td>\n",
              "      <td>1961</td>\n",
              "    </tr>\n",
              "    <tr>\n",
              "      <th>Storm</th>\n",
              "      <td>female</td>\n",
              "      <td>1975</td>\n",
              "    </tr>\n",
              "    <tr>\n",
              "      <th>Namor</th>\n",
              "      <td>male</td>\n",
              "      <td>1939</td>\n",
              "    </tr>\n",
              "    <tr>\n",
              "      <th>Hawkeye</th>\n",
              "      <td>male</td>\n",
              "      <td>1964</td>\n",
              "    </tr>\n",
              "    <tr>\n",
              "      <th>Daredevil</th>\n",
              "      <td>male</td>\n",
              "      <td>1964</td>\n",
              "    </tr>\n",
              "    <tr>\n",
              "      <th>Doctor Strange</th>\n",
              "      <td>male</td>\n",
              "      <td>1963</td>\n",
              "    </tr>\n",
              "    <tr>\n",
              "      <th>Hank Pym</th>\n",
              "      <td>male</td>\n",
              "      <td>1962</td>\n",
              "    </tr>\n",
              "    <tr>\n",
              "      <th>Scarlet Witch</th>\n",
              "      <td>female</td>\n",
              "      <td>1964</td>\n",
              "    </tr>\n",
              "    <tr>\n",
              "      <th>Wasp</th>\n",
              "      <td>female</td>\n",
              "      <td>1963</td>\n",
              "    </tr>\n",
              "    <tr>\n",
              "      <th>Black Widow</th>\n",
              "      <td>female</td>\n",
              "      <td>1964</td>\n",
              "    </tr>\n",
              "    <tr>\n",
              "      <th>Vision</th>\n",
              "      <td>male</td>\n",
              "      <td>1968</td>\n",
              "    </tr>\n",
              "  </tbody>\n",
              "</table>\n",
              "</div>"
            ],
            "text/plain": [
              "                     sex  first_appearance\n",
              "name                                      \n",
              "Spider-Man          male              1962\n",
              "Captain America     male              1941\n",
              "Wolverine           male              1974\n",
              "Iron Man            male              1963\n",
              "Thor                male              1963\n",
              "Thing               male              1961\n",
              "Mister Fantastic    male              1961\n",
              "Hulk                male              1962\n",
              "Beast               male              1963\n",
              "Invisible Woman   female              1961\n",
              "Storm             female              1975\n",
              "Namor               male              1939\n",
              "Hawkeye             male              1964\n",
              "Daredevil           male              1964\n",
              "Doctor Strange      male              1963\n",
              "Hank Pym            male              1962\n",
              "Scarlet Witch     female              1964\n",
              "Wasp              female              1963\n",
              "Black Widow       female              1964\n",
              "Vision              male              1968"
            ]
          },
          "metadata": {
            "tags": []
          },
          "execution_count": 26
        }
      ]
    },
    {
      "cell_type": "markdown",
      "metadata": {
        "id": "5UYLyDcqwzSd"
      },
      "source": [
        "![green-divider](https://user-images.githubusercontent.com/7065401/52071924-c003ad80-2562-11e9-8297-1c6595f8a7ff.png)\n",
        "\n",
        "### Drop 'Namor' and 'Hank Pym' rows\n"
      ]
    },
    {
      "cell_type": "code",
      "metadata": {
        "id": "LfbFJb-owzSe"
      },
      "source": [
        "# your code goes here\n"
      ],
      "execution_count": null,
      "outputs": []
    },
    {
      "cell_type": "code",
      "metadata": {
        "cell_type": "solution",
        "id": "RLR43a1VwzSe"
      },
      "source": [
        "marvel_df = marvel_df.drop(['Namor', 'Hank Pym'], axis=0)\n",
        "marvel_df"
      ],
      "execution_count": null,
      "outputs": []
    },
    {
      "cell_type": "markdown",
      "metadata": {
        "id": "sgzn3iaxwzSe"
      },
      "source": [
        "![purple-divider](https://user-images.githubusercontent.com/7065401/52071927-c1cd7100-2562-11e9-908a-dde91ba14e59.png)\n",
        "\n",
        "## DataFrame selection, slicing and indexation"
      ]
    },
    {
      "cell_type": "markdown",
      "metadata": {
        "id": "QVZ1aPu5wzSe"
      },
      "source": [
        "### Show the first 5 elements on `marvel_df`\n",
        " "
      ]
    },
    {
      "cell_type": "code",
      "metadata": {
        "id": "Xlw6TgLEwzSf",
        "outputId": "89e95e9d-7671-46a7-c016-4426de79cfe8",
        "colab": {
          "base_uri": "https://localhost:8080/",
          "height": 236
        }
      },
      "source": [
        "# your code goes here\n",
        "marvelDataFrame.head()"
      ],
      "execution_count": 18,
      "outputs": [
        {
          "output_type": "execute_result",
          "data": {
            "text/html": [
              "<div>\n",
              "<style scoped>\n",
              "    .dataframe tbody tr th:only-of-type {\n",
              "        vertical-align: middle;\n",
              "    }\n",
              "\n",
              "    .dataframe tbody tr th {\n",
              "        vertical-align: top;\n",
              "    }\n",
              "\n",
              "    .dataframe thead th {\n",
              "        text-align: right;\n",
              "    }\n",
              "</style>\n",
              "<table border=\"1\" class=\"dataframe\">\n",
              "  <thead>\n",
              "    <tr style=\"text-align: right;\">\n",
              "      <th></th>\n",
              "      <th>Hero Name</th>\n",
              "      <th>Genre</th>\n",
              "      <th>Age</th>\n",
              "    </tr>\n",
              "    <tr>\n",
              "      <th>Hero Name</th>\n",
              "      <th></th>\n",
              "      <th></th>\n",
              "      <th></th>\n",
              "    </tr>\n",
              "  </thead>\n",
              "  <tbody>\n",
              "    <tr>\n",
              "      <th>Spider-Man</th>\n",
              "      <td>Spider-Man</td>\n",
              "      <td>male</td>\n",
              "      <td>1962</td>\n",
              "    </tr>\n",
              "    <tr>\n",
              "      <th>Captain America</th>\n",
              "      <td>Captain America</td>\n",
              "      <td>male</td>\n",
              "      <td>1941</td>\n",
              "    </tr>\n",
              "    <tr>\n",
              "      <th>Wolverine</th>\n",
              "      <td>Wolverine</td>\n",
              "      <td>male</td>\n",
              "      <td>1974</td>\n",
              "    </tr>\n",
              "    <tr>\n",
              "      <th>Iron Man</th>\n",
              "      <td>Iron Man</td>\n",
              "      <td>male</td>\n",
              "      <td>1963</td>\n",
              "    </tr>\n",
              "    <tr>\n",
              "      <th>Thor</th>\n",
              "      <td>Thor</td>\n",
              "      <td>male</td>\n",
              "      <td>1963</td>\n",
              "    </tr>\n",
              "  </tbody>\n",
              "</table>\n",
              "</div>"
            ],
            "text/plain": [
              "                       Hero Name Genre   Age\n",
              "Hero Name                                   \n",
              "Spider-Man            Spider-Man  male  1962\n",
              "Captain America  Captain America  male  1941\n",
              "Wolverine              Wolverine  male  1974\n",
              "Iron Man                Iron Man  male  1963\n",
              "Thor                        Thor  male  1963"
            ]
          },
          "metadata": {
            "tags": []
          },
          "execution_count": 18
        }
      ]
    },
    {
      "cell_type": "code",
      "metadata": {
        "cell_type": "solution",
        "id": "G4zh-dcIwzSf"
      },
      "source": [
        "#marvel_df.loc[['Spider-Man', 'Captain America', 'Wolverine', 'Iron Man', 'Thor'], :] # bad!\n",
        "#marvel_df.loc['Spider-Man': 'Thor', :]\n",
        "#marvel_df.iloc[0:5, :]\n",
        "#marvel_df.iloc[0:5,]\n",
        "marvel_df.iloc[:5,]\n",
        "#marvel_df.head()"
      ],
      "execution_count": null,
      "outputs": []
    },
    {
      "cell_type": "markdown",
      "metadata": {
        "id": "pfV8lMt7wzSf"
      },
      "source": [
        "![green-divider](https://user-images.githubusercontent.com/7065401/52071924-c003ad80-2562-11e9-8297-1c6595f8a7ff.png)\n",
        "\n",
        "### Show the last 5 elements on `marvel_df`\n"
      ]
    },
    {
      "cell_type": "code",
      "metadata": {
        "id": "-4kmLCyVwzSf",
        "outputId": "1565eb22-1fb0-40b1-9fe7-a6284baaebb0",
        "colab": {
          "base_uri": "https://localhost:8080/",
          "height": 236
        }
      },
      "source": [
        "# your code goes here\n",
        "marvelDataFrame.tail()"
      ],
      "execution_count": 19,
      "outputs": [
        {
          "output_type": "execute_result",
          "data": {
            "text/html": [
              "<div>\n",
              "<style scoped>\n",
              "    .dataframe tbody tr th:only-of-type {\n",
              "        vertical-align: middle;\n",
              "    }\n",
              "\n",
              "    .dataframe tbody tr th {\n",
              "        vertical-align: top;\n",
              "    }\n",
              "\n",
              "    .dataframe thead th {\n",
              "        text-align: right;\n",
              "    }\n",
              "</style>\n",
              "<table border=\"1\" class=\"dataframe\">\n",
              "  <thead>\n",
              "    <tr style=\"text-align: right;\">\n",
              "      <th></th>\n",
              "      <th>Hero Name</th>\n",
              "      <th>Genre</th>\n",
              "      <th>Age</th>\n",
              "    </tr>\n",
              "    <tr>\n",
              "      <th>Hero Name</th>\n",
              "      <th></th>\n",
              "      <th></th>\n",
              "      <th></th>\n",
              "    </tr>\n",
              "  </thead>\n",
              "  <tbody>\n",
              "    <tr>\n",
              "      <th>Hank Pym</th>\n",
              "      <td>Hank Pym</td>\n",
              "      <td>male</td>\n",
              "      <td>1962</td>\n",
              "    </tr>\n",
              "    <tr>\n",
              "      <th>Scarlet Witch</th>\n",
              "      <td>Scarlet Witch</td>\n",
              "      <td>female</td>\n",
              "      <td>1964</td>\n",
              "    </tr>\n",
              "    <tr>\n",
              "      <th>Wasp</th>\n",
              "      <td>Wasp</td>\n",
              "      <td>female</td>\n",
              "      <td>1963</td>\n",
              "    </tr>\n",
              "    <tr>\n",
              "      <th>Black Widow</th>\n",
              "      <td>Black Widow</td>\n",
              "      <td>female</td>\n",
              "      <td>1964</td>\n",
              "    </tr>\n",
              "    <tr>\n",
              "      <th>Vision</th>\n",
              "      <td>Vision</td>\n",
              "      <td>male</td>\n",
              "      <td>1968</td>\n",
              "    </tr>\n",
              "  </tbody>\n",
              "</table>\n",
              "</div>"
            ],
            "text/plain": [
              "                   Hero Name   Genre   Age\n",
              "Hero Name                                 \n",
              "Hank Pym            Hank Pym    male  1962\n",
              "Scarlet Witch  Scarlet Witch  female  1964\n",
              "Wasp                    Wasp  female  1963\n",
              "Black Widow      Black Widow  female  1964\n",
              "Vision                Vision    male  1968"
            ]
          },
          "metadata": {
            "tags": []
          },
          "execution_count": 19
        }
      ]
    },
    {
      "cell_type": "code",
      "metadata": {
        "cell_type": "solution",
        "id": "_X5bjXWlwzSg"
      },
      "source": [
        "#marvel_df.loc[['Hank Pym', 'Scarlet Witch', 'Wasp', 'Black Widow', 'Vision'], :] # bad!\n",
        "#marvel_df.loc['Hank Pym':'Vision', :]\n",
        "marvel_df.iloc[-5:,]\n",
        "#marvel_df.tail()"
      ],
      "execution_count": null,
      "outputs": []
    },
    {
      "cell_type": "markdown",
      "metadata": {
        "id": "c-FdDLLuwzSg"
      },
      "source": [
        "![green-divider](https://user-images.githubusercontent.com/7065401/52071924-c003ad80-2562-11e9-8297-1c6595f8a7ff.png)\n",
        "\n",
        "### Show just the sex of the first 5 elements on `marvel_df`"
      ]
    },
    {
      "cell_type": "code",
      "metadata": {
        "id": "5p1I91bXwzSh",
        "outputId": "62fa4c2c-7205-4844-d7d3-f284a7c9346d",
        "colab": {
          "base_uri": "https://localhost:8080/"
        }
      },
      "source": [
        "# your code goes here\n",
        "marvelDataFrame[\"Genre\"].head()"
      ],
      "execution_count": 20,
      "outputs": [
        {
          "output_type": "execute_result",
          "data": {
            "text/plain": [
              "Hero Name\n",
              "Spider-Man         male\n",
              "Captain America    male\n",
              "Wolverine          male\n",
              "Iron Man           male\n",
              "Thor               male\n",
              "Name: Genre, dtype: object"
            ]
          },
          "metadata": {
            "tags": []
          },
          "execution_count": 20
        }
      ]
    },
    {
      "cell_type": "code",
      "metadata": {
        "cell_type": "solution",
        "id": "jlIoSDfywzSh",
        "outputId": "f7a6ce98-663e-4688-93b3-2a8afa1f3a2f",
        "colab": {
          "base_uri": "https://localhost:8080/",
          "height": 236
        }
      },
      "source": [
        "#marvel_df.iloc[:5,]['sex'].to_frame()\n",
        "marvel_df.iloc[:5,].sex.to_frame()\n",
        "#marvel_df.head().sex.to_frame()"
      ],
      "execution_count": 27,
      "outputs": [
        {
          "output_type": "execute_result",
          "data": {
            "text/html": [
              "<div>\n",
              "<style scoped>\n",
              "    .dataframe tbody tr th:only-of-type {\n",
              "        vertical-align: middle;\n",
              "    }\n",
              "\n",
              "    .dataframe tbody tr th {\n",
              "        vertical-align: top;\n",
              "    }\n",
              "\n",
              "    .dataframe thead th {\n",
              "        text-align: right;\n",
              "    }\n",
              "</style>\n",
              "<table border=\"1\" class=\"dataframe\">\n",
              "  <thead>\n",
              "    <tr style=\"text-align: right;\">\n",
              "      <th></th>\n",
              "      <th>sex</th>\n",
              "    </tr>\n",
              "    <tr>\n",
              "      <th>name</th>\n",
              "      <th></th>\n",
              "    </tr>\n",
              "  </thead>\n",
              "  <tbody>\n",
              "    <tr>\n",
              "      <th>Spider-Man</th>\n",
              "      <td>male</td>\n",
              "    </tr>\n",
              "    <tr>\n",
              "      <th>Captain America</th>\n",
              "      <td>male</td>\n",
              "    </tr>\n",
              "    <tr>\n",
              "      <th>Wolverine</th>\n",
              "      <td>male</td>\n",
              "    </tr>\n",
              "    <tr>\n",
              "      <th>Iron Man</th>\n",
              "      <td>male</td>\n",
              "    </tr>\n",
              "    <tr>\n",
              "      <th>Thor</th>\n",
              "      <td>male</td>\n",
              "    </tr>\n",
              "  </tbody>\n",
              "</table>\n",
              "</div>"
            ],
            "text/plain": [
              "                  sex\n",
              "name                 \n",
              "Spider-Man       male\n",
              "Captain America  male\n",
              "Wolverine        male\n",
              "Iron Man         male\n",
              "Thor             male"
            ]
          },
          "metadata": {
            "tags": []
          },
          "execution_count": 27
        }
      ]
    },
    {
      "cell_type": "markdown",
      "metadata": {
        "id": "nLmYcz8xwzSh"
      },
      "source": [
        "![green-divider](https://user-images.githubusercontent.com/7065401/52071924-c003ad80-2562-11e9-8297-1c6595f8a7ff.png)\n",
        "\n",
        "### Show the first_appearance of all middle elements on `marvel_df` "
      ]
    },
    {
      "cell_type": "code",
      "metadata": {
        "id": "QHvlxA1dwzSh"
      },
      "source": [
        "# your code goes here\n"
      ],
      "execution_count": null,
      "outputs": []
    },
    {
      "cell_type": "code",
      "metadata": {
        "cell_type": "solution",
        "id": "65xLGjjHwzSh"
      },
      "source": [
        "marvel_df.iloc[1:-1,].first_appearance.to_frame()"
      ],
      "execution_count": null,
      "outputs": []
    },
    {
      "cell_type": "markdown",
      "metadata": {
        "id": "RxvBXoqjwzSh"
      },
      "source": [
        "![green-divider](https://user-images.githubusercontent.com/7065401/52071924-c003ad80-2562-11e9-8297-1c6595f8a7ff.png)\n",
        "\n",
        "### Show the first and last elements on `marvel_df`\n"
      ]
    },
    {
      "cell_type": "code",
      "metadata": {
        "id": "fyZakZHTwzSi"
      },
      "source": [
        "# your code goes here\n"
      ],
      "execution_count": null,
      "outputs": []
    },
    {
      "cell_type": "code",
      "metadata": {
        "cell_type": "solution",
        "id": "1nSskMl-wzSi"
      },
      "source": [
        "#marvel_df.iloc[[0, -1],][['sex', 'first_appearance']]\n",
        "marvel_df.iloc[[0, -1],]"
      ],
      "execution_count": null,
      "outputs": []
    },
    {
      "cell_type": "markdown",
      "metadata": {
        "id": "McCzlBcDwzSj"
      },
      "source": [
        "![purple-divider](https://user-images.githubusercontent.com/7065401/52071927-c1cd7100-2562-11e9-908a-dde91ba14e59.png)\n",
        "\n",
        "## DataFrame manipulation and operations"
      ]
    },
    {
      "cell_type": "markdown",
      "metadata": {
        "id": "9l0_aFUxwzSj"
      },
      "source": [
        "### Modify the `first_appearance` of 'Vision' to year 1964"
      ]
    },
    {
      "cell_type": "code",
      "metadata": {
        "id": "sLuvS8jrwzSj"
      },
      "source": [
        "# your code goes here\n"
      ],
      "execution_count": null,
      "outputs": []
    },
    {
      "cell_type": "code",
      "metadata": {
        "cell_type": "solution",
        "id": "lt05WqZuwzSj"
      },
      "source": [
        "marvel_df.loc['Vision', 'first_appearance'] = 1964\n",
        "\n",
        "marvel_df"
      ],
      "execution_count": null,
      "outputs": []
    },
    {
      "cell_type": "markdown",
      "metadata": {
        "id": "inhYf4m_wzSk"
      },
      "source": [
        "![green-divider](https://user-images.githubusercontent.com/7065401/52071924-c003ad80-2562-11e9-8297-1c6595f8a7ff.png)\n",
        "\n",
        "### Add a new column to `marvel_df` called 'years_since' with the years since `first_appearance`\n"
      ]
    },
    {
      "cell_type": "code",
      "metadata": {
        "id": "uOGbwpKrwzSk"
      },
      "source": [
        "# your code goes here\n"
      ],
      "execution_count": null,
      "outputs": []
    },
    {
      "cell_type": "code",
      "metadata": {
        "cell_type": "solution",
        "id": "iD9AvhEEwzSk"
      },
      "source": [
        "marvel_df['years_since'] = 2018 - marvel_df['first_appearance']\n",
        "\n",
        "marvel_df"
      ],
      "execution_count": null,
      "outputs": []
    },
    {
      "cell_type": "markdown",
      "metadata": {
        "id": "KjDlBsu0wzSk"
      },
      "source": [
        "![purple-divider](https://user-images.githubusercontent.com/7065401/52071927-c1cd7100-2562-11e9-908a-dde91ba14e59.png)\n",
        "\n",
        "## DataFrame boolean arrays (also called masks)"
      ]
    },
    {
      "cell_type": "markdown",
      "metadata": {
        "id": "XT7aHQLnwzSk"
      },
      "source": [
        "### Given the `marvel_df` pandas DataFrame, make a mask showing the female characters\n"
      ]
    },
    {
      "cell_type": "code",
      "metadata": {
        "id": "4tZ5TgVewzSk"
      },
      "source": [
        "# your code goes here\n"
      ],
      "execution_count": null,
      "outputs": []
    },
    {
      "cell_type": "code",
      "metadata": {
        "cell_type": "solution",
        "id": "8VnEStUOwzSk"
      },
      "source": [
        "mask = marvel_df['sex'] == 'female'\n",
        "\n",
        "mask"
      ],
      "execution_count": null,
      "outputs": []
    },
    {
      "cell_type": "markdown",
      "metadata": {
        "id": "3C9BrFSjwzSl"
      },
      "source": [
        "![green-divider](https://user-images.githubusercontent.com/7065401/52071924-c003ad80-2562-11e9-8297-1c6595f8a7ff.png)\n",
        "\n",
        "### Given the `marvel_df` pandas DataFrame, get the male characters\n"
      ]
    },
    {
      "cell_type": "code",
      "metadata": {
        "id": "5ql0FidPwzSl"
      },
      "source": [
        "# your code goes here\n"
      ],
      "execution_count": null,
      "outputs": []
    },
    {
      "cell_type": "code",
      "metadata": {
        "cell_type": "solution",
        "id": "m0KypurvwzSl"
      },
      "source": [
        "mask = marvel_df['sex'] == 'male'\n",
        "\n",
        "marvel_df[mask]"
      ],
      "execution_count": null,
      "outputs": []
    },
    {
      "cell_type": "markdown",
      "metadata": {
        "id": "MSvR8NYJwzSl"
      },
      "source": [
        "![green-divider](https://user-images.githubusercontent.com/7065401/52071924-c003ad80-2562-11e9-8297-1c6595f8a7ff.png)\n",
        "\n",
        "### Given the `marvel_df` pandas DataFrame, get the characters with `first_appearance` after 1970\n"
      ]
    },
    {
      "cell_type": "code",
      "metadata": {
        "id": "mrWKhp2HwzSl"
      },
      "source": [
        "# your code goes here\n"
      ],
      "execution_count": null,
      "outputs": []
    },
    {
      "cell_type": "code",
      "metadata": {
        "cell_type": "solution",
        "id": "MS8wRA0XwzSl"
      },
      "source": [
        "mask = marvel_df['first_appearance'] > 1970\n",
        "\n",
        "marvel_df[mask]"
      ],
      "execution_count": null,
      "outputs": []
    },
    {
      "cell_type": "markdown",
      "metadata": {
        "id": "Iz-3kWx0wzSl"
      },
      "source": [
        "![green-divider](https://user-images.githubusercontent.com/7065401/52071924-c003ad80-2562-11e9-8297-1c6595f8a7ff.png)\n",
        "\n",
        "### Given the `marvel_df` pandas DataFrame, get the female characters with `first_appearance` after 1970"
      ]
    },
    {
      "cell_type": "code",
      "metadata": {
        "id": "LXs8V8jawzSl"
      },
      "source": [
        "# your code goes here\n"
      ],
      "execution_count": null,
      "outputs": []
    },
    {
      "cell_type": "code",
      "metadata": {
        "cell_type": "solution",
        "scrolled": true,
        "id": "ZIf58g5uwzSl"
      },
      "source": [
        "mask = (marvel_df['sex'] == 'female') & (marvel_df['first_appearance'] > 1970)\n",
        "\n",
        "marvel_df[mask]"
      ],
      "execution_count": null,
      "outputs": []
    },
    {
      "cell_type": "markdown",
      "metadata": {
        "id": "c5b1UM5MwzSm"
      },
      "source": [
        "![purple-divider](https://user-images.githubusercontent.com/7065401/52071927-c1cd7100-2562-11e9-908a-dde91ba14e59.png)\n",
        "\n",
        "## DataFrame summary statistics"
      ]
    },
    {
      "cell_type": "markdown",
      "metadata": {
        "id": "giP22sq4wzSm"
      },
      "source": [
        "### Show basic statistics of `marvel_df`"
      ]
    },
    {
      "cell_type": "code",
      "metadata": {
        "id": "CGBxnhE0wzSm"
      },
      "source": [
        "# your code goes here\n"
      ],
      "execution_count": null,
      "outputs": []
    },
    {
      "cell_type": "code",
      "metadata": {
        "cell_type": "solution",
        "id": "6NIWoK5bwzSm"
      },
      "source": [
        "marvel_df.describe()"
      ],
      "execution_count": null,
      "outputs": []
    },
    {
      "cell_type": "markdown",
      "metadata": {
        "id": "8H162hhuwzSm"
      },
      "source": [
        "![green-divider](https://user-images.githubusercontent.com/7065401/52071924-c003ad80-2562-11e9-8297-1c6595f8a7ff.png)\n",
        "\n",
        "### Given the `marvel_df` pandas DataFrame, show the mean value of `first_appearance`"
      ]
    },
    {
      "cell_type": "code",
      "metadata": {
        "id": "5XPitxNHwzSm"
      },
      "source": [
        "# your code goes here\n"
      ],
      "execution_count": null,
      "outputs": []
    },
    {
      "cell_type": "code",
      "metadata": {
        "cell_type": "solution",
        "id": "5y09P5luwzSm"
      },
      "source": [
        "\n",
        "#np.mean(marvel_df.first_appearance)\n",
        "marvel_df.first_appearance.mean()"
      ],
      "execution_count": null,
      "outputs": []
    },
    {
      "cell_type": "markdown",
      "metadata": {
        "id": "uyh3-qmtwzSm"
      },
      "source": [
        "![green-divider](https://user-images.githubusercontent.com/7065401/52071924-c003ad80-2562-11e9-8297-1c6595f8a7ff.png)\n",
        "\n",
        "### Given the `marvel_df` pandas DataFrame, show the min value of `first_appearance`\n"
      ]
    },
    {
      "cell_type": "code",
      "metadata": {
        "id": "TQJZIdbdwzSn"
      },
      "source": [
        "# your code goes here\n"
      ],
      "execution_count": null,
      "outputs": []
    },
    {
      "cell_type": "code",
      "metadata": {
        "cell_type": "solution",
        "id": "3J73Jfo5wzSn"
      },
      "source": [
        "#np.min(marvel_df.first_appearance)\n",
        "marvel_df.first_appearance.min()"
      ],
      "execution_count": null,
      "outputs": []
    },
    {
      "cell_type": "markdown",
      "metadata": {
        "id": "Y7x-kJtMwzSn"
      },
      "source": [
        "![green-divider](https://user-images.githubusercontent.com/7065401/52071924-c003ad80-2562-11e9-8297-1c6595f8a7ff.png)\n",
        "\n",
        "### Given the `marvel_df` pandas DataFrame, get the characters with the min value of `first_appearance`"
      ]
    },
    {
      "cell_type": "code",
      "metadata": {
        "id": "WFePX8q_wzSn"
      },
      "source": [
        "# your code goes here\n"
      ],
      "execution_count": null,
      "outputs": []
    },
    {
      "cell_type": "code",
      "metadata": {
        "cell_type": "solution",
        "id": "EICGCe0swzSn"
      },
      "source": [
        "mask = marvel_df['first_appearance'] == marvel_df.first_appearance.min()\n",
        "marvel_df[mask]"
      ],
      "execution_count": null,
      "outputs": []
    },
    {
      "cell_type": "markdown",
      "metadata": {
        "id": "s7uwVOsFwzSn"
      },
      "source": [
        "![purple-divider](https://user-images.githubusercontent.com/7065401/52071927-c1cd7100-2562-11e9-908a-dde91ba14e59.png)\n",
        "\n",
        "## DataFrame basic plottings"
      ]
    },
    {
      "cell_type": "markdown",
      "metadata": {
        "id": "BsGsQNMbwzSn"
      },
      "source": [
        "### Reset index names of `marvel_df`\n"
      ]
    },
    {
      "cell_type": "code",
      "metadata": {
        "id": "Q6-2Xt8bwzSn"
      },
      "source": [
        "# your code goes here\n"
      ],
      "execution_count": null,
      "outputs": []
    },
    {
      "cell_type": "code",
      "metadata": {
        "cell_type": "solution",
        "id": "ZZAVIxIrwzSn"
      },
      "source": [
        "marvel_df = marvel_df.reset_index()\n",
        "\n",
        "marvel_df"
      ],
      "execution_count": null,
      "outputs": []
    },
    {
      "cell_type": "markdown",
      "metadata": {
        "id": "a5ClQImnwzSn"
      },
      "source": [
        "![green-divider](https://user-images.githubusercontent.com/7065401/52071924-c003ad80-2562-11e9-8297-1c6595f8a7ff.png)\n",
        "\n",
        "### Plot the values of `first_appearance`\n"
      ]
    },
    {
      "cell_type": "code",
      "metadata": {
        "id": "g1rQShh8wzSn"
      },
      "source": [
        "# your code goes here\n"
      ],
      "execution_count": null,
      "outputs": []
    },
    {
      "cell_type": "code",
      "metadata": {
        "cell_type": "solution",
        "id": "zqlZMuG9wzSo"
      },
      "source": [
        "#plt.plot(marvel_df.index, marvel_df.first_appearance)\n",
        "marvel_df.first_appearance.plot()"
      ],
      "execution_count": null,
      "outputs": []
    },
    {
      "cell_type": "markdown",
      "metadata": {
        "id": "SxddzL3nwzSo"
      },
      "source": [
        "![green-divider](https://user-images.githubusercontent.com/7065401/52071924-c003ad80-2562-11e9-8297-1c6595f8a7ff.png)\n",
        "\n",
        "### Plot a histogram (plot.hist) with values of `first_appearance`\n"
      ]
    },
    {
      "cell_type": "code",
      "metadata": {
        "id": "A4iqHGSvwzSo"
      },
      "source": [
        "# your code goes here\n"
      ],
      "execution_count": null,
      "outputs": []
    },
    {
      "cell_type": "code",
      "metadata": {
        "cell_type": "solution",
        "id": "EWRDzAJtwzSo"
      },
      "source": [
        "\n",
        "plt.hist(marvel_df.first_appearance)"
      ],
      "execution_count": null,
      "outputs": []
    },
    {
      "cell_type": "markdown",
      "metadata": {
        "id": "ZpNrlz7bwzSo"
      },
      "source": [
        "![purple-divider](https://user-images.githubusercontent.com/7065401/52071927-c1cd7100-2562-11e9-908a-dde91ba14e59.png)\n"
      ]
    }
  ]
}